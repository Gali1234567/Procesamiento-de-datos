{
  "nbformat": 4,
  "nbformat_minor": 0,
  "metadata": {
    "colab": {
      "provenance": []
    },
    "kernelspec": {
      "name": "python3",
      "display_name": "Python 3"
    },
    "language_info": {
      "name": "python"
    }
  },
  "cells": [
    {
      "cell_type": "markdown",
      "source": [
        "\n",
        "**Autor: Paula Andrea Galindo**\n",
        "\n",
        "**Fecha: 27/07/2024**\n",
        "\n",
        "**Tema** : **Curso** **python**\n",
        "\n",
        "**Profesor : Jhon Corredor**"
      ],
      "metadata": {
        "id": "Do4D0qGLsebO"
      }
    },
    {
      "cell_type": "markdown",
      "source": [
        "# 1. **CADENAS**  💻\n",
        "\n",
        "Exploramos operaciones clave con cadenas como indexación, slicing, stride, concatenación y el uso de secuencias de escape.\n",
        "\n",
        "\n",
        "\n",
        "\n"
      ],
      "metadata": {
        "id": "p52HOfzT-aY0"
      }
    },
    {
      "cell_type": "code",
      "source": [],
      "metadata": {
        "id": "3xv0hPsNuq9G"
      },
      "execution_count": null,
      "outputs": []
    },
    {
      "cell_type": "code",
      "execution_count": null,
      "metadata": {
        "id": "_75q0zjMPKU4",
        "colab": {
          "base_uri": "https://localhost:8080/"
        },
        "outputId": "1bda05c0-5592-4d2e-e7d9-47b34349d737"
      },
      "outputs": [
        {
          "output_type": "stream",
          "name": "stdout",
          "text": [
            "1\n"
          ]
        }
      ],
      "source": [
        "# EJERCICIO 1\n",
        "#El valor de A es 1\n",
        "A = '1'\n",
        "\n",
        "print(A)"
      ]
    },
    {
      "cell_type": "code",
      "source": [
        "# EJERCICIO 2\n",
        "#El valor de B es 2\n",
        "B = '2'\n",
        "\n",
        "print(B)"
      ],
      "metadata": {
        "colab": {
          "base_uri": "https://localhost:8080/"
        },
        "id": "fnLUIKqPekud",
        "outputId": "59042ac8-9fc3-4b08-af2a-f985203328ba"
      },
      "execution_count": null,
      "outputs": [
        {
          "output_type": "stream",
          "name": "stdout",
          "text": [
            "2\n"
          ]
        }
      ]
    },
    {
      "cell_type": "code",
      "source": [
        "#EJERCICIO 3\n",
        "#El valor es de 12 ya que es la combinacion\n",
        "C = A+B\n",
        "\n",
        "print(A+B)"
      ],
      "metadata": {
        "colab": {
          "base_uri": "https://localhost:8080/"
        },
        "id": "9t7dtBOGe5Mk",
        "outputId": "76a287ea-1824-4cf6-c1e6-fbb80903bbf0"
      },
      "execution_count": null,
      "outputs": [
        {
          "output_type": "stream",
          "name": "stdout",
          "text": [
            "12\n"
          ]
        }
      ]
    },
    {
      "cell_type": "code",
      "source": [
        "#EJERCICIO 4\n",
        "#El slicing de los 3 primeros elementoa es ABC\n",
        "D='ABCDEFG'\n",
        "\n",
        "D[:3]"
      ],
      "metadata": {
        "colab": {
          "base_uri": "https://localhost:8080/",
          "height": 35
        },
        "id": "ZuIW1FUYgUXr",
        "outputId": "93be6f07-8b51-43d2-9014-7e1ed20b3fc3"
      },
      "execution_count": null,
      "outputs": [
        {
          "output_type": "execute_result",
          "data": {
            "text/plain": [
              "'ABC'"
            ],
            "application/vnd.google.colaboratory.intrinsic+json": {
              "type": "string"
            }
          },
          "metadata": {},
          "execution_count": 8
        }
      ]
    },
    {
      "cell_type": "code",
      "source": [
        "#EJERCICIO 5\n",
        "#El stride de 2 imprime : correct\n",
        "E='clocrkr1e1c1t'\n",
        "E[::2]\n"
      ],
      "metadata": {
        "colab": {
          "base_uri": "https://localhost:8080/",
          "height": 35
        },
        "id": "27JuLAojg45U",
        "outputId": "a76ae4ed-738d-4960-b627-e81ea4cc2cf3"
      },
      "execution_count": null,
      "outputs": [
        {
          "output_type": "execute_result",
          "data": {
            "text/plain": [
              "'correct'"
            ],
            "application/vnd.google.colaboratory.intrinsic+json": {
              "type": "string"
            }
          },
          "metadata": {},
          "execution_count": 9
        }
      ]
    },
    {
      "cell_type": "code",
      "source": [
        "#EJERCICIO 6\n",
        "\n",
        "print('\\\\')"
      ],
      "metadata": {
        "colab": {
          "base_uri": "https://localhost:8080/"
        },
        "id": "XdAxlgo8hpEw",
        "outputId": "14669a22-00f5-4dcb-8c15-68c4284d44d3"
      },
      "execution_count": null,
      "outputs": [
        {
          "output_type": "stream",
          "name": "stdout",
          "text": [
            "\\\n"
          ]
        }
      ]
    },
    {
      "cell_type": "code",
      "source": [
        "#EJERCICIO 7\n",
        "F='you are wrong'\n",
        "F.upper()"
      ],
      "metadata": {
        "colab": {
          "base_uri": "https://localhost:8080/",
          "height": 35
        },
        "id": "1ApNVBqpjN-r",
        "outputId": "065f4195-03d6-4f22-e476-9fd7e4ef2a31"
      },
      "execution_count": null,
      "outputs": [
        {
          "output_type": "execute_result",
          "data": {
            "text/plain": [
              "'YOU ARE WRONG'"
            ],
            "application/vnd.google.colaboratory.intrinsic+json": {
              "type": "string"
            }
          },
          "metadata": {},
          "execution_count": 16
        }
      ]
    },
    {
      "cell_type": "code",
      "source": [
        "#EJERCICIO 8\n",
        "#Imprimir el indice donde arranca snow usando find\n",
        "G = \"Mary had a little lamb Little lamb, little lamb Mary had a little lamb \\\n",
        "Its fleece was white as snow And everywhere that Mary went Mary went, Mary went \\\n",
        "Everywhere that Mary went The lamb was sure to go\"\n",
        "G.find('snow')\n"
      ],
      "metadata": {
        "colab": {
          "base_uri": "https://localhost:8080/"
        },
        "id": "gTSpODGOj03U",
        "outputId": "15970ba6-3384-47ce-e6eb-662a3940dd36"
      },
      "execution_count": null,
      "outputs": [
        {
          "output_type": "execute_result",
          "data": {
            "text/plain": [
              "95"
            ]
          },
          "metadata": {},
          "execution_count": 19
        }
      ]
    },
    {
      "cell_type": "code",
      "source": [
        "#EJERCICIO 9\n",
        "#Remplazar la sub cadena usando replace\n",
        "G.replace('Mary','Bob')"
      ],
      "metadata": {
        "colab": {
          "base_uri": "https://localhost:8080/",
          "height": 52
        },
        "id": "uDfzPcTkkOks",
        "outputId": "a3f6ebe1-0346-4e49-a75a-6b12c63f4b95"
      },
      "execution_count": null,
      "outputs": [
        {
          "output_type": "execute_result",
          "data": {
            "text/plain": [
              "'Bob had a little lamb Little lamb, little lamb Bob had a little lamb Its fleece was white as snow And everywhere that Bob went Bob went, Bob went Everywhere that Bob went The lamb was sure to go'"
            ],
            "application/vnd.google.colaboratory.intrinsic+json": {
              "type": "string"
            }
          },
          "metadata": {},
          "execution_count": 20
        }
      ]
    },
    {
      "cell_type": "markdown",
      "source": [
        "\n",
        "\n",
        "# **2. TUPLAS 🌀**\n",
        "Exploramos cómo manejar tuplas en Python, incluyendo operaciones básicas como el acceso, slicing,etc.\n",
        "\n"
      ],
      "metadata": {
        "id": "BqfvuwvWpDBp"
      }
    },
    {
      "cell_type": "code",
      "source": [
        "#EJERCICIO 1\n",
        "#Encontrar longitud de la tupla\n",
        "\n",
        "# Tupla de ejemplo\n",
        "\n",
        "genres_tuple = (\"pop\", \"rock\", \"soul\", \"hard rock\", \"soft rock\", \\\n",
        "                \"R&B\", \"progressive rock\", \"disco\")\n",
        "genres_tuple\n",
        "\n",
        "len(genres_tuple)\n"
      ],
      "metadata": {
        "colab": {
          "base_uri": "https://localhost:8080/"
        },
        "id": "ZF5jmpZ8pWzE",
        "outputId": "15adc361-8998-4394-a7dc-0d74da263619"
      },
      "execution_count": null,
      "outputs": [
        {
          "output_type": "execute_result",
          "data": {
            "text/plain": [
              "8"
            ]
          },
          "metadata": {},
          "execution_count": 33
        }
      ]
    },
    {
      "cell_type": "code",
      "source": [
        "#EJERCICIO 2\n",
        "#Acceder al tercer elemento\n",
        "\n",
        "genres_tuple[3]\n"
      ],
      "metadata": {
        "colab": {
          "base_uri": "https://localhost:8080/",
          "height": 35
        },
        "id": "DX01QhEp3laz",
        "outputId": "c924dc29-fcfc-433f-afe4-fbf2539e7f3b"
      },
      "execution_count": null,
      "outputs": [
        {
          "output_type": "execute_result",
          "data": {
            "text/plain": [
              "'hard rock'"
            ],
            "application/vnd.google.colaboratory.intrinsic+json": {
              "type": "string"
            }
          },
          "metadata": {},
          "execution_count": 34
        }
      ]
    },
    {
      "cell_type": "code",
      "source": [
        "#EJERCICIO 3\n",
        "#Utilizamos el slicing de los elementos , EL PRIMERO ES INCLUSIVO Y EL ULTIMO ES EXCLUSIVO\n",
        "genres_tuple[3:6]\n"
      ],
      "metadata": {
        "colab": {
          "base_uri": "https://localhost:8080/"
        },
        "id": "cbCEdCQJ4WzY",
        "outputId": "a6d00e81-68a4-44de-d22d-8a4bc30ec257"
      },
      "execution_count": null,
      "outputs": [
        {
          "output_type": "execute_result",
          "data": {
            "text/plain": [
              "('hard rock', 'soft rock', 'R&B')"
            ]
          },
          "metadata": {},
          "execution_count": 25
        }
      ]
    },
    {
      "cell_type": "code",
      "source": [
        "#EJERCICIO 4\n",
        "#Encontrar los 2 elementos de la tupla\n",
        "genres_tuple[:2]"
      ],
      "metadata": {
        "colab": {
          "base_uri": "https://localhost:8080/"
        },
        "id": "AO_ZNXYp6NtF",
        "outputId": "fa5945c6-a4d4-4045-8624-17210dc2ef03"
      },
      "execution_count": null,
      "outputs": [
        {
          "output_type": "execute_result",
          "data": {
            "text/plain": [
              "('pop', 'rock')"
            ]
          },
          "metadata": {},
          "execution_count": 35
        }
      ]
    },
    {
      "cell_type": "code",
      "source": [
        "#EJERCICIO 5\n",
        "genres_tuple[7]\n",
        "genres_tuple.index('disco')"
      ],
      "metadata": {
        "colab": {
          "base_uri": "https://localhost:8080/"
        },
        "id": "RKGSbIJ66k8c",
        "outputId": "bc9830b5-8493-4121-d58f-52d667360175"
      },
      "execution_count": null,
      "outputs": [
        {
          "output_type": "execute_result",
          "data": {
            "text/plain": [
              "7"
            ]
          },
          "metadata": {},
          "execution_count": 41
        }
      ]
    },
    {
      "cell_type": "code",
      "source": [
        "#EJERCICIO 6\n",
        "#Generar una lista ordenada de esa tupla , usando sorted\n",
        "C_tuple=(-5, 1, -3)\n",
        "sorted(C_tuple)\n"
      ],
      "metadata": {
        "colab": {
          "base_uri": "https://localhost:8080/"
        },
        "id": "LqvYtIHw73U9",
        "outputId": "23083ecc-e0c1-4a05-e335-3a5979fcaad7"
      },
      "execution_count": null,
      "outputs": [
        {
          "output_type": "execute_result",
          "data": {
            "text/plain": [
              "[-5, -3, 1]"
            ]
          },
          "metadata": {},
          "execution_count": 42
        }
      ]
    },
    {
      "cell_type": "markdown",
      "source": [
        "# **3. LISTAS 📋**\n",
        "esta la creación y manipulación de listas, proporcionando ejemplos de cómo acceder a elementos, slicing, y concatenación de listas"
      ],
      "metadata": {
        "id": "-Felow9r9tTt"
      }
    },
    {
      "cell_type": "code",
      "source": [
        "#EJERCICIO 1\n",
        "#Crear una lista\n",
        "\n",
        "a_list = [1, \"hello\", [1, 2, 3], True]\n"
      ],
      "metadata": {
        "id": "InnuQHrv9ABz"
      },
      "execution_count": null,
      "outputs": []
    },
    {
      "cell_type": "code",
      "source": [
        "#EJERCICIO 2\n",
        "#Acceder al elemento 1\n",
        "a_list[1]"
      ],
      "metadata": {
        "colab": {
          "base_uri": "https://localhost:8080/",
          "height": 35
        },
        "id": "ekgoCf6XTACY",
        "outputId": "9d30bcc3-1dc5-4363-d0d7-47a21bc0cb74"
      },
      "execution_count": null,
      "outputs": [
        {
          "output_type": "execute_result",
          "data": {
            "text/plain": [
              "'hello'"
            ],
            "application/vnd.google.colaboratory.intrinsic+json": {
              "type": "string"
            }
          },
          "metadata": {},
          "execution_count": 2
        }
      ]
    },
    {
      "cell_type": "code",
      "source": [
        "#EJERCICIO 3\n",
        "#Acceder elementos 1 ,2 y 3\n",
        "a_list[1:4]"
      ],
      "metadata": {
        "colab": {
          "base_uri": "https://localhost:8080/"
        },
        "id": "YQp80sMjTWnB",
        "outputId": "e5a4e6a4-264d-4934-ecfc-7bf30e54d34d"
      },
      "execution_count": null,
      "outputs": [
        {
          "output_type": "execute_result",
          "data": {
            "text/plain": [
              "['hello', [1, 2, 3], True]"
            ]
          },
          "metadata": {},
          "execution_count": 3
        }
      ]
    },
    {
      "cell_type": "code",
      "source": [
        "#EJERCICIO 4\n",
        "#Concatenar listas\n",
        "\n",
        "A = [1, 'a']\n",
        "B = [2, 1, 'd']\n",
        "A + B\n"
      ],
      "metadata": {
        "colab": {
          "base_uri": "https://localhost:8080/"
        },
        "id": "ep635N3BT_ud",
        "outputId": "e7bf8ecd-35dd-42f6-c65f-56d7634b87d9"
      },
      "execution_count": null,
      "outputs": [
        {
          "output_type": "execute_result",
          "data": {
            "text/plain": [
              "[1, 'a', 2, 1, 'd']"
            ]
          },
          "metadata": {},
          "execution_count": 4
        }
      ]
    },
    {
      "cell_type": "markdown",
      "source": [
        "# **4. CONJUNTOS 📦**\n",
        " Conjuntos en Python, cómo convertir listas a conjuntos, realizar operaciones y comparar sumas de listas y conjuntos."
      ],
      "metadata": {
        "id": "BwKJDqWeU9BU"
      }
    },
    {
      "cell_type": "code",
      "source": [
        "#EJERCICIO 1\n",
        "#Pasar la lista a conjunto  (usa set)\n",
        "# Convertir lista a conjunto\n",
        "music_genres_list = ['rap', 'house', 'electronic music', 'rap']\n",
        "music_genres_set = set(music_genres_list)\n",
        "print(music_genres_set)\n"
      ],
      "metadata": {
        "colab": {
          "base_uri": "https://localhost:8080/"
        },
        "id": "a_En5-QaVWHr",
        "outputId": "0afc02ec-d622-4fb4-a246-e8eda033f4ce"
      },
      "execution_count": null,
      "outputs": [
        {
          "output_type": "stream",
          "name": "stdout",
          "text": [
            "{'electronic music', 'house', 'rap'}\n"
          ]
        }
      ]
    },
    {
      "cell_type": "code",
      "source": [
        "#EJERCICIO 2\n",
        "# Comparar suma de una lista y un conjunto\n",
        "A = [1, 2, 2, 1]\n",
        "B = set([1, 2, 2, 1])\n",
        "print(\"Suma de la lista A:\", sum(A))\n",
        "print(\"Suma del conjunto B:\", sum(B))\n"
      ],
      "metadata": {
        "colab": {
          "base_uri": "https://localhost:8080/"
        },
        "id": "NGUeEjlQWr8_",
        "outputId": "0aacec46-9b22-4c3c-f86c-47b493981170"
      },
      "execution_count": null,
      "outputs": [
        {
          "output_type": "stream",
          "name": "stdout",
          "text": [
            "Suma de la lista A: 6\n",
            "Suma del conjunto B: 3\n"
          ]
        }
      ]
    },
    {
      "cell_type": "code",
      "source": [
        "#EJERCICIO 3\n",
        "# Crear un nuevo conjunto que es la union de los dados previamente usando .union\n",
        "# Crear la unión de dos conjuntos\n",
        "album_set1 = set([\"Thriller\", 'AC/DC', 'Back in Black'])\n",
        "album_set2 = set([\"AC/DC\", \"Back in Black\", \"The Dark Side of the Moon\"])\n",
        "album_set3 = album_set1.union(album_set2)\n",
        "print(album_set3)\n"
      ],
      "metadata": {
        "colab": {
          "base_uri": "https://localhost:8080/"
        },
        "id": "E7u1GgsDX3K8",
        "outputId": "8b102bb5-32d7-4917-e0a7-02a30fbfd1af"
      },
      "execution_count": null,
      "outputs": [
        {
          "output_type": "stream",
          "name": "stdout",
          "text": [
            "{'Thriller', 'AC/DC', 'Back in Black', 'The Dark Side of the Moon'}\n"
          ]
        }
      ]
    },
    {
      "cell_type": "code",
      "source": [
        "#EJERCICIO 4\n",
        "#Mirar si album set 1 es subconjunto de ablum set 3  usando ,isubset\n",
        "# Verificar si un conjunto es subconjunto de otro\n",
        "A= album_set1.issubset(album_set3)\n",
        "print(A)\n"
      ],
      "metadata": {
        "colab": {
          "base_uri": "https://localhost:8080/"
        },
        "id": "Lc4C6c8La0YY",
        "outputId": "6feced67-4093-4a8d-e66d-51ecd39beacf"
      },
      "execution_count": null,
      "outputs": [
        {
          "output_type": "stream",
          "name": "stdout",
          "text": [
            "True\n"
          ]
        }
      ]
    },
    {
      "cell_type": "markdown",
      "source": [
        "# **5. DICCIONARIOS 📘**\n",
        " cómo acceder a llaves y valores de los diccionarios y como se pueden trabajar\n"
      ],
      "metadata": {
        "id": "I_glzCsXBl0x"
      }
    },
    {
      "cell_type": "code",
      "source": [
        "#Diccionario de ejemplo para los ejercicios\n",
        "\n",
        "soundtrack_dic = {\"The Bodyguard\":\"1992\", \"Saturday Night Fever\":\"1977\"}\n",
        "\n",
        "#1. cuales son las llaves   *se usa .keys\n",
        "\n",
        "soundtrack_dic.keys()"
      ],
      "metadata": {
        "id": "93jfJA1ycCB7",
        "colab": {
          "base_uri": "https://localhost:8080/"
        },
        "outputId": "9792ee32-562a-4bc5-fa7a-f07f4415984d"
      },
      "execution_count": null,
      "outputs": [
        {
          "output_type": "execute_result",
          "data": {
            "text/plain": [
              "dict_keys(['The Bodyguard', 'Saturday Night Fever'])"
            ]
          },
          "metadata": {},
          "execution_count": 3
        }
      ]
    },
    {
      "cell_type": "code",
      "source": [
        "#2. cuales son los valores del diccionario   *.values\n",
        "\n",
        "soundtrack_dic.values()"
      ],
      "metadata": {
        "colab": {
          "base_uri": "https://localhost:8080/"
        },
        "id": "lgim8agpsgcl",
        "outputId": "3b1ee388-0bae-4d85-e728-4c81277dcebc"
      },
      "execution_count": null,
      "outputs": [
        {
          "output_type": "execute_result",
          "data": {
            "text/plain": [
              "dict_values(['1992', '1977'])"
            ]
          },
          "metadata": {},
          "execution_count": 2
        }
      ]
    },
    {
      "cell_type": "code",
      "source": [
        "#PARTE B\n",
        "## 1.CREAR EL DICCIONARIO QUE PIDE\n",
        "\n",
        "album_sales_dict = {\"Back in Black\": 50, \"The Bodyguard\": 50, \"Thriller\": 65}\n",
        "\n",
        "## 2.Usar el diccionario paa saber las ventas de thriller\n",
        "\n",
        "ventas_thri=album_sales_dict['Thriller'] #darle un nombre a lo que piden\n",
        "print(ventas_thri)\n",
        "\n"
      ],
      "metadata": {
        "colab": {
          "base_uri": "https://localhost:8080/"
        },
        "id": "5kyT1TMUtYt8",
        "outputId": "3db6efb2-0445-4de8-c40a-51149c6f3866"
      },
      "execution_count": null,
      "outputs": [
        {
          "output_type": "stream",
          "name": "stdout",
          "text": [
            "65\n"
          ]
        }
      ]
    },
    {
      "cell_type": "code",
      "source": [
        "# 3.Obtener los nombres de los discos mediante key\n",
        "album_sales_dict.keys() #se podria crear una variable que se llame nombre_discos y se usa print"
      ],
      "metadata": {
        "colab": {
          "base_uri": "https://localhost:8080/"
        },
        "id": "jW-xpvr7udGv",
        "outputId": "533cba03-9d32-42d2-ff87-f71e0b4c53aa"
      },
      "execution_count": null,
      "outputs": [
        {
          "output_type": "execute_result",
          "data": {
            "text/plain": [
              "dict_keys(['Back in Black', 'The Bodyguard', 'Thriller'])"
            ]
          },
          "metadata": {},
          "execution_count": 7
        }
      ]
    },
    {
      "cell_type": "code",
      "source": [
        "#4. Encontrar los records de ventas del diccionario con value\n",
        "album_sales_dict.values()"
      ],
      "metadata": {
        "colab": {
          "base_uri": "https://localhost:8080/"
        },
        "id": "9_e8pq8QvOgx",
        "outputId": "4bcd6546-76cb-4840-b1df-14764a49a61a"
      },
      "execution_count": null,
      "outputs": [
        {
          "output_type": "execute_result",
          "data": {
            "text/plain": [
              "dict_values([50, 50, 65])"
            ]
          },
          "metadata": {},
          "execution_count": 8
        }
      ]
    },
    {
      "cell_type": "markdown",
      "source": [
        "# **6. CONDICIONES 🚦**\n",
        " Declaraciones if, elif, y else, y cómo se pueden usar"
      ],
      "metadata": {
        "id": "GYeJl8LgwmMl"
      }
    },
    {
      "cell_type": "code",
      "source": [
        "#EJERCICIO 1\n",
        "#IF que determine si un disco tiene calificacion mayor a 8 // se prueba con uno\n",
        "#que tiene 8.5 , si es true imprimir this album is amazing\n",
        "\n",
        "# Calificación del álbum \"Back in Black\"    ***si son varios se deberia crear un diccionario con el album y su raiting\n",
        "album_rating = 8.5                            # se hace un bucle con el album y el raiting dentro del diccionario\n",
        "\n",
        "# If para comprobar si la calificación es mayor a 8\n",
        "if album_rating > 8:\n",
        "    print(\"This album is Amazing!\")\n"
      ],
      "metadata": {
        "colab": {
          "base_uri": "https://localhost:8080/"
        },
        "id": "1lBQJ7kzwYp4",
        "outputId": "58f3ef69-67df-40b4-bd8d-f30077ccecbf"
      },
      "execution_count": null,
      "outputs": [
        {
          "output_type": "stream",
          "name": "stdout",
          "text": [
            "This album is Amazing!\n"
          ]
        }
      ]
    },
    {
      "cell_type": "code",
      "source": [
        "# EJERCICIO 2\n",
        "# IF Si la calificación es mayor que 8 imprime “this album is amazing”. Si es menor o igual a 8 que imprima “this album is ok”.\n",
        "album_rating1 = 7.5\n",
        "# Declaración if-else\n",
        "if album_rating1 > 8:\n",
        "    print(\"This album is amazing\")\n",
        "else:\n",
        "    print(\"This album is ok\")\n"
      ],
      "metadata": {
        "colab": {
          "base_uri": "https://localhost:8080/"
        },
        "id": "18B_3v8i1ZuJ",
        "outputId": "94db59a6-c7df-4cc4-e3de-0e455f054ddd"
      },
      "execution_count": null,
      "outputs": [
        {
          "output_type": "stream",
          "name": "stdout",
          "text": [
            "This album is ok\n"
          ]
        }
      ]
    },
    {
      "cell_type": "code",
      "source": [
        "# EJERCICIO 3\n",
        "# IF que determine si un disco fue lanzado antes de 1980 o en los años 1991 o 1993. Si la condición es true imprime el año de lanzamiento.\n",
        "\n",
        "# Año de lanzamiento del álbum // ES LA SALIDA\n",
        "album_year = 1991\n",
        "\n",
        "# Declaración if para verificar múltiples condiciones\n",
        "if album_year < 1980 or album_year == 1991 or album_year == 1993:\n",
        "    print(\"The album was released in the year\", album_year)\n"
      ],
      "metadata": {
        "colab": {
          "base_uri": "https://localhost:8080/"
        },
        "id": "AB1ePJvn2X-b",
        "outputId": "c0f2071c-be39-4201-8180-40cab9c89924"
      },
      "execution_count": null,
      "outputs": [
        {
          "output_type": "stream",
          "name": "stdout",
          "text": [
            "The album was released in the year 1991\n"
          ]
        }
      ]
    },
    {
      "cell_type": "markdown",
      "source": [
        "# **7. BUCLES 🔁**\n",
        "Bucles como for y while, uso ,funciones/acciones de apoyo y sintaxis"
      ],
      "metadata": {
        "id": "SuF_qXcMwvlf"
      }
    },
    {
      "cell_type": "code",
      "source": [
        "#EJERCICIO 1\n",
        "# Bucle for para imprimir números de -5 a 5 usando la funcion range()\n",
        "for number in range(-5, 6):\n",
        "    print(number)\n"
      ],
      "metadata": {
        "colab": {
          "base_uri": "https://localhost:8080/"
        },
        "id": "9MSFrzgv3R3C",
        "outputId": "833e950a-b976-4c20-cff1-184e5a724a15"
      },
      "execution_count": null,
      "outputs": [
        {
          "output_type": "stream",
          "name": "stdout",
          "text": [
            "-5\n",
            "-4\n",
            "-3\n",
            "-2\n",
            "-1\n",
            "0\n",
            "1\n",
            "2\n",
            "3\n",
            "4\n",
            "5\n"
          ]
        }
      ]
    },
    {
      "cell_type": "code",
      "source": [
        "#EJERCICIO 2\n",
        "#Imprimir los elementos de la lista , se recorre la lista con el bucle\n",
        "# Lista de géneros musicales\n",
        "Genres = ['rock', 'R&B', 'Soundtrack', 'R&B', 'soul', 'pop']\n",
        "\n",
        "# Bucle for para imprimir cada género musical\n",
        "for genre in Genres:\n",
        "    print(genre)\n"
      ],
      "metadata": {
        "colab": {
          "base_uri": "https://localhost:8080/"
        },
        "id": "3fNQRSMn44Zy",
        "outputId": "3be3f706-0f31-4fce-e908-00d7607ec201"
      },
      "execution_count": null,
      "outputs": [
        {
          "output_type": "stream",
          "name": "stdout",
          "text": [
            "rock\n",
            "R&B\n",
            "Soundtrack\n",
            "R&B\n",
            "soul\n",
            "pop\n"
          ]
        }
      ]
    },
    {
      "cell_type": "code",
      "source": [
        "#EJERCICIO 3\n",
        "#Imprimir los elementos de la lista , se recorre la lista con el bucle\n",
        "#Lista squares\n",
        "squares=['red', 'yellow', 'green', 'purple', 'blue']\n",
        "\n",
        "#Bucle\n",
        "for square in squares:\n",
        "    print(square)"
      ],
      "metadata": {
        "colab": {
          "base_uri": "https://localhost:8080/"
        },
        "id": "ePBEfSfd5Vsg",
        "outputId": "5ef7923c-791f-443e-b276-587df051283d"
      },
      "execution_count": null,
      "outputs": [
        {
          "output_type": "stream",
          "name": "stdout",
          "text": [
            "red\n",
            "yellow\n",
            "green\n",
            "purple\n",
            "blue\n"
          ]
        }
      ]
    },
    {
      "cell_type": "code",
      "source": [
        "#EJERCICIO 4\n",
        "# Escribe un bucle while que muestre los valores de la calificación de las canciones de un disco almacenados\n",
        "#en la lista PlayListRatings. Si la calificación es menor a 6, sal del bucle\n",
        "\n",
        "# Lista de calificaciones\n",
        "PlayListRatings = [10, 9.5, 10, 8, 7.5, 5, 10, 10]\n",
        "\n",
        "i = 0\n",
        "# Bucle while que va hasta encontrar una calificación menor que 6\n",
        "while i < len(PlayListRatings) and PlayListRatings[i] >= 6:\n",
        "    print(PlayListRatings[i])\n",
        "    i += 1\n"
      ],
      "metadata": {
        "colab": {
          "base_uri": "https://localhost:8080/"
        },
        "id": "E2nIGFUd7Cr-",
        "outputId": "53bb2606-544a-4c0c-b9f7-0ee1e04e2547"
      },
      "execution_count": null,
      "outputs": [
        {
          "output_type": "stream",
          "name": "stdout",
          "text": [
            "10\n",
            "9.5\n",
            "10\n",
            "8\n",
            "7.5\n"
          ]
        }
      ]
    },
    {
      "cell_type": "code",
      "source": [
        "#EJERCICIO 5\n",
        "# Escribe un bucle while que copie las cadenas 'orange' de la lista squares a\n",
        "#la lista new_squares. Detente y sal del ciclo si el valor en la lista no es 'orange'\n",
        "\n",
        "# Listas de entrada y de salida\n",
        "squares = ['orange', 'orange', 'purple', 'blue ', 'orange']\n",
        "new_squares = []\n",
        "\n",
        "i = 0\n",
        "# Bucle while que se detiene al encontrar un color diferente de 'orange'\n",
        "while i < len(squares) and squares[i] == 'orange':\n",
        "    new_squares.append(squares[i])  ##Agrega a new squares en caso e ser orange\n",
        "    i += 1\n",
        "\n",
        "print(new_squares)\n"
      ],
      "metadata": {
        "colab": {
          "base_uri": "https://localhost:8080/"
        },
        "id": "NGtf42Qe6Tad",
        "outputId": "dffa7cd7-d193-4c9b-fe29-734e1f3b74ba"
      },
      "execution_count": null,
      "outputs": [
        {
          "output_type": "stream",
          "name": "stdout",
          "text": [
            "['orange', 'orange']\n"
          ]
        }
      ]
    },
    {
      "cell_type": "markdown",
      "source": [
        "#  **8. FUNCIONES 🔧**\n",
        "Uso de funciones en Python, destacando cómo pueden hacer que el código sea reutilizable"
      ],
      "metadata": {
        "id": "udKoPe2Lktwq"
      }
    },
    {
      "cell_type": "code",
      "source": [
        "#Cree una función que divida la primera entrada por la segunda entrada:\n",
        "# Definir la función\n",
        "def divide(a, b):\n",
        "    if b != 0:\n",
        "        return a / b\n",
        "    else:\n",
        "        return \"Error\"\n",
        "\n",
        "# Prueba de la función\n",
        "print(divide(12, 2))  # Debería imprimir 5\n",
        "print(divide(10, 0))  # Debería imprimir un mensaje de error\n"
      ],
      "metadata": {
        "id": "Xxczjpf2HPRM",
        "colab": {
          "base_uri": "https://localhost:8080/"
        },
        "outputId": "5280efb7-3419-4769-a5fa-4220901a3ba9"
      },
      "execution_count": 1,
      "outputs": [
        {
          "output_type": "stream",
          "name": "stdout",
          "text": [
            "6.0\n",
            "Error\n"
          ]
        }
      ]
    },
    {
      "cell_type": "code",
      "source": [
        "#PARTE B\n",
        "#Utilice la función  con  para la siguiente pregunta.\n",
        "#¿Se puede usar la función  con  que definimos antes para agregar números enteros o cadenas?\n",
        "def con(a, b):\n",
        "   return(a + b)\n",
        "\n",
        "# Uso de con para sumar números\n",
        "print(con(5, 3))\n",
        "\n",
        "# Uso de con para concatenar cadenas\n",
        "print(con(\"BUENAS \", \"TARDES\"))\n",
        "\n",
        "#Si esposble para ambos casos"
      ],
      "metadata": {
        "colab": {
          "base_uri": "https://localhost:8080/"
        },
        "id": "ersJvm5NmHCG",
        "outputId": "4c98cdd4-02b5-4b1b-9350-0261670c0bad"
      },
      "execution_count": 6,
      "outputs": [
        {
          "output_type": "stream",
          "name": "stdout",
          "text": [
            "8\n",
            "BUENAS TARDES\n"
          ]
        }
      ]
    },
    {
      "cell_type": "code",
      "source": [
        "#¿Se puede usar la función  con  que definimos antes para concentrar una lista o tupla?\n",
        "\n",
        "def con(a, b):\n",
        "    return(a + b)\n",
        "\n",
        "    # Concatenar listas\n",
        "print(con([10, 20], [30, 40]))\n",
        "\n",
        "# Concatenar tuplas\n",
        "print(con((3, 6), (7, 4)))\n",
        "\n",
        "#Si es posible para ambos casos ,la funcion se puede reutilizar en varios casos"
      ],
      "metadata": {
        "colab": {
          "base_uri": "https://localhost:8080/"
        },
        "id": "_DQfUbvUn9hg",
        "outputId": "d9e32089-4f52-4f45-e163-a576b4ca9f58"
      },
      "execution_count": 7,
      "outputs": [
        {
          "output_type": "stream",
          "name": "stdout",
          "text": [
            "[10, 20, 30, 40]\n",
            "(3, 6, 7, 4)\n"
          ]
        }
      ]
    },
    {
      "cell_type": "markdown",
      "source": [
        "\n",
        "# **9. CLASES 🏛️**\n",
        "Creación y manipulación de clases y objetos\n",
        "\n",
        "**Actividad a realizar:**\n",
        "La clase matplotlib.patches.Ellipse, permite dibujar elipses desde matplotlib. La clase se importa de la siguiente manera:\n",
        "from matplotlib.patchs import Ellipse\n",
        "\n",
        "Se puede dibujar entonces cualquier elipse, dando los argumentos:\n",
        "plt.gca().add_patch(Ellipse(xy, width, height, facecolor = color, edgecolor = edgecolor))\n",
        "\n",
        "Se requiere crear una clase Elipse, la cual el constructor sea con valores iniciales cualesquiera. Adicionalmente, la clase debe tener los siguientes métodos:\n",
        "\n",
        "1.- Cambiar el ancho\n",
        "2.- Cambiar el alto\n",
        "3.- Cambiar el color de relleno\n",
        "4.- Cambiar el color de borde\n",
        "5.- Dibujar\n"
      ],
      "metadata": {
        "id": "O5RvNE5Eo_AD"
      }
    },
    {
      "cell_type": "code",
      "source": [
        "import matplotlib.pyplot as plt\n",
        "from matplotlib.patches import Ellipse\n",
        "\n",
        "# Definición de la clase Elipse\n",
        "class Elipse:\n",
        "    # Constructor de la clase con valores predeterminados para los atributos\n",
        "    def __init__(self, width=7, height=4, facecolor='green', edgecolor='black'):\n",
        "        self.width = width\n",
        "        self.height = height\n",
        "        self.facecolor = facecolor\n",
        "        self.edgecolor = edgecolor\n",
        "\n",
        "    # Método para cambiar el ancho de la elipse\n",
        "    def change_width(self, new_width):\n",
        "        self.width = new_width\n",
        "\n",
        "    # Método para cambiar la altura de la elipse\n",
        "    def change_height(self, new_height):\n",
        "        self.height = new_height\n",
        "\n",
        "    # Método para cambiar el color de relleno de la elipse\n",
        "    def change_facecolor(self, new_color):\n",
        "        self.facecolor = new_color\n",
        "\n",
        "    # Método para cambiar el color del borde de la elipse\n",
        "    def change_edgecolor(self, new_edgecolor):\n",
        "        self.edgecolor = new_edgecolor\n",
        "\n",
        "    # Método para dibujar la elipse utilizando matplotlib\n",
        "    def draw(self):\n",
        "        fig, ax = plt.subplots()\n",
        "        e = Ellipse(xy=(0.5, 0.5), width=self.width, height=self.height, facecolor=self.facecolor, edgecolor=self.edgecolor)\n",
        "        ax.add_patch(e)\n",
        "        # Establece los límites del eje para asegurar que la elipse esté centrada y completamente visible\n",
        "        ax.set_xlim(-1, 2)\n",
        "        ax.set_ylim(-1, 2)\n",
        "        plt.axis('scaled')\n",
        "        plt.show()\n",
        "\n",
        "# Creación y manipulación de una instancia de Elipse\n",
        "my_ellipse = Elipse()  # Instancia\n",
        "my_ellipse.change_width(5)  # Cambia las caracteristicas de la elipse\n",
        "my_ellipse.change_height(3)\n",
        "my_ellipse.change_facecolor('red')\n",
        "my_ellipse.change_edgecolor('black')\n",
        "\n",
        "# Dibuja la elipse con los atributos modificados\n",
        "my_ellipse.draw()\n",
        "\n"
      ],
      "metadata": {
        "colab": {
          "base_uri": "https://localhost:8080/",
          "height": 358
        },
        "id": "t6cBN60ooyxx",
        "outputId": "502594b0-ff6a-467f-8fd8-545d1cf72aef"
      },
      "execution_count": 14,
      "outputs": [
        {
          "output_type": "display_data",
          "data": {
            "text/plain": [
              "<Figure size 640x480 with 1 Axes>"
            ],
            "image/png": "[encoded data removed]"
          },
          "metadata": {}
        }
      ]
    },
    {
      "cell_type": "code",
      "source": [],
      "metadata": {
        "id": "okcnQMM6q3M7"
      },
      "execution_count": null,
      "outputs": []
    }
  ]
}